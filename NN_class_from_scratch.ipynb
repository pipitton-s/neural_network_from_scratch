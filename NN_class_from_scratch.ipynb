{
 "cells": [
  {
   "cell_type": "code",
   "execution_count": 2,
   "id": "ddbe988d-6051-4c6e-9e14-25a40c3b53f0",
   "metadata": {},
   "outputs": [],
   "source": [
    "import numpy as np\n",
    "import pandas as pd\n",
    "import matplotlib.pyplot as plt"
   ]
  },
  {
   "cell_type": "code",
   "execution_count": 3,
   "id": "bddd05f2-38f4-4b16-bff9-1b1eda780cb7",
   "metadata": {},
   "outputs": [],
   "source": [
    "df = pd.read_csv('insurance.csv')"
   ]
  },
  {
   "cell_type": "code",
   "execution_count": 4,
   "id": "68aa69f2-c96a-4d62-bc39-aefef8d274b3",
   "metadata": {},
   "outputs": [],
   "source": [
    "from sklearn.model_selection import train_test_split"
   ]
  },
  {
   "cell_type": "code",
   "execution_count": 5,
   "id": "c7e98935-df10-4c77-b585-cb85eb4ecc96",
   "metadata": {},
   "outputs": [],
   "source": [
    "x_train,x_test,y_train,y_test = train_test_split(df[['age','affordibility']],df.bought_insurance,test_size=0.2, random_state=25)"
   ]
  },
  {
   "cell_type": "code",
   "execution_count": 6,
   "id": "12be9934-3f41-4da2-af87-1c0099110b0b",
   "metadata": {},
   "outputs": [],
   "source": [
    "x_train_scaled = x_train.copy()\n",
    "x_train_scaled['age'] = x_train_scaled['age'] / 100\n",
    "\n",
    "x_test_scaled = x_test.copy()\n",
    "x_test_scaled['age'] = x_test_scaled['age'] / 100"
   ]
  },
  {
   "cell_type": "code",
   "execution_count": 10,
   "id": "21678b89-f40c-4b2a-b538-57d4b5c9553e",
   "metadata": {},
   "outputs": [],
   "source": [
    "def sigmoid_numpy(x):\n",
    "    return 1/(1+np.exp(-x))\n",
    "\n",
    "def log_loss(y_true, y_predicted):\n",
    "    epsilon = 1e-15\n",
    "    y_predicted_new = [max(i,epsilon) for i in y_predicted]\n",
    "    y_predicted_new = [min(i,1-epsilon) for i in y_predicted_new]\n",
    "    y_predicted_new = np.array(y_predicted_new)\n",
    "    return -np.mean(y_true*np.log(y_predicted_new)+(1-y_true)*np.log(1-y_predicted_new))"
   ]
  },
  {
   "cell_type": "code",
   "execution_count": 21,
   "id": "183e120e-92ee-4d99-ac6c-33900f5808ec",
   "metadata": {},
   "outputs": [],
   "source": [
    "class myNN:\n",
    "    def __init__(self):\n",
    "        self.w1 =1\n",
    "        self.w2 =1\n",
    "        self.bias =0\n",
    "        \n",
    "    def fit(self,x,y,epochs,loss_thresold):\n",
    "        self.w1, self.w2, self.bias = self.gradient_descent(x['age'],x['affordibility'],y, epochs,loss_thresold)\n",
    "    \n",
    "    def predict(self, x):\n",
    "        weight_sum = self.w1*x['age'] + self.w2*x['affordibility'] + self.bias\n",
    "        return sigmoid_numpy(weight_sum)\n",
    "    \n",
    "    def gradient_descent(self,age, affordibility, y_true, epochs,loss_thresold):\n",
    "        # w1, w2, bias\n",
    "        w1 = w2 =1\n",
    "        bias =0\n",
    "        rate = 0.5\n",
    "        n = len(age)\n",
    "\n",
    "        for i in range(epochs):\n",
    "            weight_sum = w1*age + w2*affordibility +bias\n",
    "            y_predicted = sigmoid_numpy(weight_sum)\n",
    "\n",
    "            loss = log_loss(y_true,y_predicted)\n",
    "\n",
    "            dw1 = np.dot(np.transpose(age),(y_predicted - y_true))/n\n",
    "            dw2 = np.dot(np.transpose(affordibility),(y_predicted - y_true))/n\n",
    "            d_bias = np.mean(y_predicted - y_true)\n",
    "\n",
    "            w1 = w1 -rate*dw1\n",
    "            w2 = w2 -rate*dw2\n",
    "            bias = bias -rate*d_bias\n",
    "            \n",
    "            if i%50==0:\n",
    "                print(f'Epochs:{i}, w1:{w1}, w2:{w2}, bias:{bias}, loss:{loss}')\n",
    "\n",
    "            if loss<=loss_thresold:\n",
    "                print(f'Epochs:{i}, w1:{w1}, w2:{w2}, bias:{bias}, loss:{loss}')\n",
    "                break\n",
    "        return w1, w2, bias\n",
    "        "
   ]
  },
  {
   "cell_type": "code",
   "execution_count": 22,
   "id": "270a1f9f-49c0-4e6d-9e85-4e896f0f1449",
   "metadata": {},
   "outputs": [
    {
     "name": "stdout",
     "output_type": "stream",
     "text": [
      "Epochs:0, w1:0.974907633470177, w2:0.948348125394529, bias:-0.11341867736368583, loss:0.7113403233723417\n",
      "Epochs:50, w1:1.5033195541731388, w2:1.108384790367645, bias:-1.2319047301235464, loss:0.5675865113475955\n",
      "Epochs:100, w1:2.200713131760032, w2:1.2941584023238903, bias:-1.6607009122062801, loss:0.5390680417774752\n",
      "Epochs:150, w1:2.8495727769689085, w2:1.3696895491572745, bias:-1.986105845859897, loss:0.5176462164249294\n",
      "Epochs:200, w1:3.443016970881803, w2:1.4042218624465033, bias:-2.2571369883752723, loss:0.5005011269691375\n",
      "Epochs:250, w1:3.982450494649576, w2:1.4239127329321233, bias:-2.494377365971801, loss:0.48654089537617085\n",
      "Epochs:300, w1:4.472179522095915, w2:1.438787986553552, bias:-2.707387811922373, loss:0.4750814640632793\n",
      "Epochs:350, w1:4.917245868007634, w2:1.4525660781176122, bias:-2.901176333556766, loss:0.46561475306999006\n",
      "Epochs:366, w1:5.051047623653049, w2:1.4569794548473887, bias:-2.9596534546250037, loss:0.46293944095888917\n"
     ]
    }
   ],
   "source": [
    "custom_model = myNN()\n",
    "custom_model.fit(x_train_scaled,y_train,epochs=500,loss_thresold=0.4631)"
   ]
  },
  {
   "cell_type": "code",
   "execution_count": 23,
   "id": "1ef2a708-f4a2-4fd1-bd53-ec3336246869",
   "metadata": {},
   "outputs": [
    {
     "data": {
      "text/plain": [
       "2     0.705020\n",
       "10    0.355836\n",
       "21    0.161599\n",
       "11    0.477919\n",
       "14    0.725586\n",
       "9     0.828987\n",
       "dtype: float64"
      ]
     },
     "execution_count": 23,
     "metadata": {},
     "output_type": "execute_result"
    }
   ],
   "source": [
    "custom_model.predict(x_test_scaled)"
   ]
  },
  {
   "cell_type": "code",
   "execution_count": null,
   "id": "a2fa80fc-1daa-43fc-ab7f-69b5c005e4b1",
   "metadata": {},
   "outputs": [],
   "source": []
  }
 ],
 "metadata": {
  "kernelspec": {
   "display_name": "Python 3 (ipykernel)",
   "language": "python",
   "name": "python3"
  },
  "language_info": {
   "codemirror_mode": {
    "name": "ipython",
    "version": 3
   },
   "file_extension": ".py",
   "mimetype": "text/x-python",
   "name": "python",
   "nbconvert_exporter": "python",
   "pygments_lexer": "ipython3",
   "version": "3.9.1"
  }
 },
 "nbformat": 4,
 "nbformat_minor": 5
}
